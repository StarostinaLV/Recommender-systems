{
  "cells": [
    {
      "cell_type": "markdown",
      "metadata": {
        "id": "view-in-github",
        "colab_type": "text"
      },
      "source": [
        "<a href=\"https://colab.research.google.com/github/StarostinaLV/Recommender-systems/blob/main/Collaborative_filtering.ipynb\" target=\"_parent\"><img src=\"https://colab.research.google.com/assets/colab-badge.svg\" alt=\"Open In Colab\"/></a>"
      ]
    },
    {
      "cell_type": "markdown",
      "source": [
        "**Рассчеты к лекции:**"
      ],
      "metadata": {
        "id": "w1DRc3Dar22V"
      }
    },
    {
      "cell_type": "code",
      "execution_count": null,
      "metadata": {
        "id": "LTaSr3lqYaa1"
      },
      "outputs": [],
      "source": [
        "import pandas as pd\n",
        "import numpy as np"
      ]
    },
    {
      "cell_type": "code",
      "source": [
        "from scipy.spatial.distance import cityblock, cosine, euclidean, hamming, jaccard, correlation"
      ],
      "metadata": {
        "id": "cewQBoadcOpF"
      },
      "execution_count": null,
      "outputs": []
    },
    {
      "cell_type": "markdown",
      "source": [
        "**User-based collaborative filtering**"
      ],
      "metadata": {
        "id": "cuotxz02UBNu"
      }
    },
    {
      "cell_type": "code",
      "source": [
        "alex = [5, 3, 0, 0, 4, 0, 0, 0, 0]\n",
        "ivan = [4, 0, 0, 0, 0, 1, 0, 2, 3]\n",
        "bob = [0, 5, 5, 0, 0, 0, 0, 0, 0]\n",
        "david = [0, 0, 4, 3, 0, 2, 1, 0, 0]\n",
        "\n",
        "\n",
        "ivan_alex = 1-cosine(ivan, alex)\n",
        "ivan_alex"
      ],
      "metadata": {
        "id": "KTZa18l3X3eK",
        "colab": {
          "base_uri": "https://localhost:8080/"
        },
        "outputId": "2e03c1ad-f182-49b8-a201-1ca45ff7958f"
      },
      "execution_count": null,
      "outputs": [
        {
          "output_type": "execute_result",
          "data": {
            "text/plain": [
              "0.5163977794943223"
            ]
          },
          "metadata": {},
          "execution_count": 4
        }
      ]
    },
    {
      "cell_type": "code",
      "source": [
        "ivan_david = 1-cosine(ivan, david)\n",
        "ivan_david"
      ],
      "metadata": {
        "colab": {
          "base_uri": "https://localhost:8080/"
        },
        "id": "hbwbULshqHgf",
        "outputId": "9e7d82e4-400c-4101-c841-69cf4ad5b92d"
      },
      "execution_count": null,
      "outputs": [
        {
          "output_type": "execute_result",
          "data": {
            "text/plain": [
              "0.06666666666666665"
            ]
          },
          "metadata": {},
          "execution_count": 5
        }
      ]
    },
    {
      "cell_type": "code",
      "source": [
        "ivan_bob = 1-cosine(ivan, bob)\n",
        "ivan_bob"
      ],
      "metadata": {
        "colab": {
          "base_uri": "https://localhost:8080/"
        },
        "id": "6RIQRJJ0qOsT",
        "outputId": "e3bf0677-51c0-4394-8656-7afde1e3cdb4"
      },
      "execution_count": null,
      "outputs": [
        {
          "output_type": "execute_result",
          "data": {
            "text/plain": [
              "0.0"
            ]
          },
          "metadata": {},
          "execution_count": 6
        }
      ]
    },
    {
      "cell_type": "code",
      "source": [
        "summa = ivan_alex + ivan_david + ivan_bob\n",
        "summa"
      ],
      "metadata": {
        "colab": {
          "base_uri": "https://localhost:8080/"
        },
        "id": "wmtT8vG4qQ6g",
        "outputId": "5045cf19-94e6-47df-8d9b-0c6162d019da"
      },
      "execution_count": null,
      "outputs": [
        {
          "output_type": "execute_result",
          "data": {
            "text/plain": [
              "0.583064446160989"
            ]
          },
          "metadata": {},
          "execution_count": 7
        }
      ]
    },
    {
      "cell_type": "markdown",
      "source": [
        "**Item-based collaborative filtering**"
      ],
      "metadata": {
        "id": "iaWgF22uKbXh"
      }
    },
    {
      "cell_type": "markdown",
      "source": [
        "Похожесть считается для векторов, сформированных из оценок, которые проставлены только для обоих сравниваемых фильмов."
      ],
      "metadata": {
        "id": "lP7-wyQTKiIe"
      }
    },
    {
      "cell_type": "code",
      "source": [
        "tractorists = [-0.4, 1.25, 0.25, -0.25]\n",
        "svinarka_i_pastuh = [1.6, -0.75, 0.25, 0.75]\n",
        "1 - correlation(tractorists, svinarka_i_pastuh)"
      ],
      "metadata": {
        "colab": {
          "base_uri": "https://localhost:8080/"
        },
        "id": "31vQ04ob24fR",
        "outputId": "c4e0e709-e188-4d4f-d3f2-15cb7e0c4ad8"
      },
      "execution_count": null,
      "outputs": [
        {
          "output_type": "execute_result",
          "data": {
            "text/plain": [
              "-0.9544920068004434"
            ]
          },
          "metadata": {},
          "execution_count": 8
        }
      ]
    },
    {
      "cell_type": "code",
      "source": [
        "tractorists = [-0.4, 0.25]\n",
        "one_upona_tractor = [-1.4, 0.25]\n",
        "1 - correlation(tractorists, one_upona_tractor)"
      ],
      "metadata": {
        "colab": {
          "base_uri": "https://localhost:8080/"
        },
        "id": "iEYwGGWDJQL0",
        "outputId": "291e171e-138c-44f2-959b-dc3546d352cb"
      },
      "execution_count": null,
      "outputs": [
        {
          "output_type": "execute_result",
          "data": {
            "text/plain": [
              "1.0"
            ]
          },
          "metadata": {},
          "execution_count": 9
        }
      ]
    },
    {
      "cell_type": "code",
      "source": [
        "tractorists = [-0.4, 1.25, -0.25]\n",
        "traktor_pigeon = [-1.4, 0.25, -0.25]\n",
        "1 - correlation(tractorists, traktor_pigeon)"
      ],
      "metadata": {
        "colab": {
          "base_uri": "https://localhost:8080/"
        },
        "id": "Wzx2zhEGI2pG",
        "outputId": "337df696-8fe6-47f3-a691-0e443b4dd24a"
      },
      "execution_count": null,
      "outputs": [
        {
          "output_type": "execute_result",
          "data": {
            "text/plain": [
              "0.7869519254146483"
            ]
          },
          "metadata": {},
          "execution_count": 10
        }
      ]
    },
    {
      "cell_type": "code",
      "source": [
        "tractorists = [-0.4, 1.25, 0.25, -0.25]\n",
        "babe = [1.6, -0.75, -0.75, -0.25]\n",
        "1 - correlation(tractorists, babe)"
      ],
      "metadata": {
        "colab": {
          "base_uri": "https://localhost:8080/"
        },
        "id": "vsM3rv9F5kUQ",
        "outputId": "9de80657-73f1-482a-ef9a-7a0df5bb2cbf"
      },
      "execution_count": null,
      "outputs": [
        {
          "output_type": "execute_result",
          "data": {
            "text/plain": [
              "-0.6689333090011409"
            ]
          },
          "metadata": {},
          "execution_count": 11
        }
      ]
    }
  ],
  "metadata": {
    "kernelspec": {
      "display_name": "Python 3",
      "language": "python",
      "name": "python3"
    },
    "language_info": {
      "codemirror_mode": {
        "name": "ipython",
        "version": 3
      },
      "file_extension": ".py",
      "mimetype": "text/x-python",
      "name": "python",
      "nbconvert_exporter": "python",
      "pygments_lexer": "ipython3",
      "version": "3.6.4"
    },
    "colab": {
      "provenance": [],
      "include_colab_link": true
    }
  },
  "nbformat": 4,
  "nbformat_minor": 0
}